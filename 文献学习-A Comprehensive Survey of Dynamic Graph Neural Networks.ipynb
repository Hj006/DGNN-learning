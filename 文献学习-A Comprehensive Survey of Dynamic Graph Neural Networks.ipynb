{
 "cells": [
  {
   "cell_type": "markdown",
   "id": "a26a5747",
   "metadata": {},
   "source": [
    "文献：\n",
    "\n",
    "## A Comprehensive Survey of Dynamic Graph Neural Networks: Models, Frameworks, Benchmarks, Experiments and Challenges"
   ]
  },
  {
   "cell_type": "markdown",
   "id": "7a31ce01",
   "metadata": {},
   "source": [
    "## 每个部分说了什么， 我学到什么："
   ]
  },
  {
   "cell_type": "markdown",
   "id": "9b130b6b",
   "metadata": {},
   "source": [
    "### 摘要\n",
    "\n",
    "本篇是一个全面的综述，以评估动态图神经网络领域中各种方法的性能、优势与局限。 本文提出了一种新的分类法， 用于分类现有的网络、框架、算法。\n",
    "\n",
    "什么是动态图神经网络？\n",
    "\n",
    "： 动态图神经网络（GNNs）将时序信息与图神经网络相结合，能够同时捕捉动态图中的结构、时间和上下文关系，从而在多种应用中实现性能提升。\n",
    "\n",
    "本文评价指标：评估指标包括收敛精度、训练效率以及GPU内存使用情况\n"
   ]
  },
  {
   "cell_type": "markdown",
   "id": "941b008e",
   "metadata": {},
   "source": []
  }
 ],
 "metadata": {
  "language_info": {
   "name": "python"
  }
 },
 "nbformat": 4,
 "nbformat_minor": 5
}
